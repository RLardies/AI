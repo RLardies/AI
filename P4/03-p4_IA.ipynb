{
 "cells": [
  {
   "cell_type": "markdown",
   "metadata": {},
   "source": [
    "## 3. Predicción de fugas de clientes en una compañía telefónica"
   ]
  },
  {
   "cell_type": "markdown",
   "metadata": {},
   "source": [
    "Una compañía telefónica está interesada en que desarrollemos un modelo que prediga los **100 clientes actuales** (dataset de explotaación) que tienen más probabilidad de abandonar la compañía. Para ello nos proporcionan una base de datos **fuga_clientes_empresa_telefonica_construccion.csv** con casos etiquetados, que usaremos para construir nuestro modelo de predicción.\n",
    "\n",
    "Los campos de esta base de datos son:\n",
    "\n",
    "* **Customer ID**\n",
    "\n",
    "* **network_age**: antigüedad del cliente en días\n",
    "\n",
    "* **Customer tenure in months:** antigüedad del cliente en meses\n",
    "\n",
    "* **Total Spend in Months 1 and 2:** gasto total del cliente en los meses de referencia 1 y 2\n",
    "\n",
    "* **Total SMS Spend:** gasto total en SMS\n",
    "\n",
    "* **Total Data Spend:** gasto total en datos/internet\n",
    "\n",
    "* **Total Data Consumption:** consumo total de datos (en KB) durante el período de estudio\n",
    "\n",
    "* **Total Unique Calls:** número total de llamadas únicas\n",
    "\n",
    "* **Total Onnet spend:** gasto total en llamadas a otros usuarios de la misma red de telefonía\n",
    "\n",
    "* **Total Offnet spend:** gasto total en llamadas a otros usuarios de redes de telefonía diferentes\n",
    "\n",
    "* **Total Call centre complaint calls:** número de llamadas de queja al call center\n",
    "\n",
    "* **Network type subscription in Month 1:** suscripción de tipo de red en el mes 1. Esto indica la suscripción de red preferida de un cliente, lo que puede indicar su tipo de dispositivo: servicio 2G o 3G\n",
    "\n",
    "* **Network type subscription in Month 2:** igual que el anterior pero en el mes posterior\n",
    "\n",
    "* **Churn Status**: el valor es 1 si el cliente abandona la compañía telefónica, 0 si permanece en ella\n",
    "\n",
    "* **Most Loved Competitor network in Month 1:** qué otro proveedor de la competencia prefiere el cliente en el mes 1. En realidad es un conjunto de columnas, cada una enfocada en un proveedor particular\n",
    "\n",
    "* **Most Loved Competitor network in Month 2:** qué otro proveedor de la competencia prefiere el cliente en el mes 2. En realidad es un conjunto de columnas, cada una enfocada en un proveedor particular\n",
    "\n",
    "La variable a predecir es **Churn Status**: el valor es 1 si el cliente **abandona** la compañía, 0 si no la abandona.\n",
    "\n",
    "La compañía también nos proporciona otra base de datos, **fuga_clientes_empresa_telefonica_explotacion.csv**, con información sobre clientes de los que no se sabe ahora mismo si van a permanecer o no en la compañía. Por tanto en esta segunda base de datos todos los valores de la columna **Churn Status** son missing values (NaN).\n",
    "\n",
    "La compañía nos pide que proporcionemos los IDs de los 100 clientes de la base de datos de explotación que con mayor probabilidad vayan a abandonar la compañía. Para ello proporcionaremos como entregable a la compañía un archivo csv con una sola columna, **Customer ID**, y 100 filas que contengan los IDs de los clientes seleccionados.\n",
    "\n",
    "El fichero **ejemplo_fichero_predicciones.csv** contiene un ejemplo con el formato solicitado para este archivo."
   ]
  },
  {
   "cell_type": "code",
   "execution_count": 53,
   "metadata": {},
   "outputs": [],
   "source": [
    "import pandas as pd\n",
    "import matplotlib.pyplot as plt\n",
    "import numpy as np\n",
    "from sklearn.tree import DecisionTreeClassifier\n",
    "from sklearn.neighbors import KNeighborsClassifier\n",
    "from sklearn.model_selection import cross_val_score\n",
    "from sklearn.neural_network import MLPClassifier\n",
    "from sklearn.naive_bayes import GaussianNB"
   ]
  },
  {
   "cell_type": "code",
   "execution_count": 2,
   "metadata": {},
   "outputs": [],
   "source": [
    "datos_construccion = pd.read_csv(\"./fuga_clientes_empresa_telefonica_construccion.csv\")\n",
    "datos_explotacion  = pd.read_csv(\"./fuga_clientes_empresa_telefonica_explotacion.csv\")"
   ]
  },
  {
   "cell_type": "code",
   "execution_count": 3,
   "metadata": {},
   "outputs": [
    {
     "data": {
      "text/plain": [
       "Index(['Customer ID', 'network_age', 'Customer tenure in month',\n",
       "       'Total Spend in Months 1 and 2', 'Total SMS Spend', 'Total Data Spend',\n",
       "       'Total Data Consumption', 'Total Unique Calls', 'Total Onnet spend',\n",
       "       'Total Offnet spend', 'Total Call centre complaint calls',\n",
       "       'Churn Status', 'Most Loved Competitor network in Month 1_0',\n",
       "       'Most Loved Competitor network in Month 1_Mango',\n",
       "       'Most Loved Competitor network in Month 1_PQza',\n",
       "       'Most Loved Competitor network in Month 1_ToCall',\n",
       "       'Most Loved Competitor network in Month 1_Uxaa',\n",
       "       'Most Loved Competitor network in Month 1_Weematel',\n",
       "       'Most Loved Competitor network in Month 1_Zintel',\n",
       "       'Most Loved Competitor network in Month 2_Mango',\n",
       "       'Most Loved Competitor network in Month 2_PQza',\n",
       "       'Most Loved Competitor network in Month 2_ToCall',\n",
       "       'Most Loved Competitor network in Month 2_Uxaa',\n",
       "       'Most Loved Competitor network in Month 2_Weematel',\n",
       "       'Most Loved Competitor network in Month 2_Zintel'],\n",
       "      dtype='object')"
      ]
     },
     "execution_count": 3,
     "metadata": {},
     "output_type": "execute_result"
    }
   ],
   "source": [
    "datos_construccion.columns"
   ]
  },
  {
   "cell_type": "code",
   "execution_count": 4,
   "metadata": {},
   "outputs": [
    {
     "data": {
      "text/plain": [
       "Index(['Customer ID', 'network_age', 'Customer tenure in month',\n",
       "       'Total Spend in Months 1 and 2', 'Total SMS Spend', 'Total Data Spend',\n",
       "       'Total Data Consumption', 'Total Unique Calls', 'Total Onnet spend',\n",
       "       'Total Offnet spend', 'Total Call centre complaint calls',\n",
       "       'Churn Status', 'Most Loved Competitor network in Month 1_0',\n",
       "       'Most Loved Competitor network in Month 1_Mango',\n",
       "       'Most Loved Competitor network in Month 1_PQza',\n",
       "       'Most Loved Competitor network in Month 1_ToCall',\n",
       "       'Most Loved Competitor network in Month 1_Uxaa',\n",
       "       'Most Loved Competitor network in Month 1_Weematel',\n",
       "       'Most Loved Competitor network in Month 1_Zintel',\n",
       "       'Most Loved Competitor network in Month 2_Mango',\n",
       "       'Most Loved Competitor network in Month 2_PQza',\n",
       "       'Most Loved Competitor network in Month 2_ToCall',\n",
       "       'Most Loved Competitor network in Month 2_Uxaa',\n",
       "       'Most Loved Competitor network in Month 2_Weematel',\n",
       "       'Most Loved Competitor network in Month 2_Zintel'],\n",
       "      dtype='object')"
      ]
     },
     "execution_count": 4,
     "metadata": {},
     "output_type": "execute_result"
    }
   ],
   "source": [
    "datos_explotacion.columns"
   ]
  },
  {
   "cell_type": "code",
   "execution_count": 5,
   "metadata": {},
   "outputs": [
    {
     "data": {
      "text/plain": [
       "0"
      ]
     },
     "execution_count": 5,
     "metadata": {},
     "output_type": "execute_result"
    }
   ],
   "source": [
    "# chequeo de que las columnas son exactamente las mismas en los dos ficheros:\n",
    "\n",
    "sum(datos_construccion.columns != datos_explotacion.columns)"
   ]
  },
  {
   "cell_type": "code",
   "execution_count": 6,
   "metadata": {},
   "outputs": [
    {
     "data": {
      "text/plain": [
       "array([0, 0, 0, 0, 0, 0, 0, 1, 1, 1])"
      ]
     },
     "execution_count": 6,
     "metadata": {},
     "output_type": "execute_result"
    }
   ],
   "source": [
    "# la columna a predecir es \"Churn Status\"\n",
    "# si es 1, el cliente se va de la compañía\n",
    "# si es 0, el cliente se queda\n",
    "\n",
    "# Esta columna se sabe en el dataset de construcción (ejemplos de clientes pasados):\n",
    "datos_construccion[\"Churn Status\"].values[:10]"
   ]
  },
  {
   "cell_type": "code",
   "execution_count": 7,
   "metadata": {},
   "outputs": [
    {
     "data": {
      "text/plain": [
       "array([nan, nan, nan, nan, nan, nan, nan, nan, nan, nan])"
      ]
     },
     "execution_count": 7,
     "metadata": {},
     "output_type": "execute_result"
    }
   ],
   "source": [
    "# Sin embargo no se sabe en el dataset de explotación (clientes actuales):\n",
    "datos_explotacion[\"Churn Status\"].values[:10]"
   ]
  },
  {
   "cell_type": "code",
   "execution_count": 26,
   "metadata": {},
   "outputs": [],
   "source": [
    "dc_attrs = list(datos_construccion.columns)\n",
    "dc_attrs.remove('Churn Status')\n",
    "dc_attrs.remove('Customer ID')\n",
    "X = datos_construccion[dc_attrs].values\n",
    "Y = datos_construccion['Churn Status'].values"
   ]
  },
  {
   "cell_type": "code",
   "execution_count": 220,
   "metadata": {},
   "outputs": [
    {
     "name": "stdout",
     "output_type": "stream",
     "text": [
      "Score global del modelo: 0.77 +/- 0.07\n"
     ]
    }
   ],
   "source": [
    "clf = DecisionTreeClassifier(max_depth=5)\n",
    "clf = clf.fit(X, Y)\n",
    "scores = cross_val_score(clf, X, Y,cv=5)\n",
    "print(\"Score global del modelo: {:.2f} +/- {:.2f}\".format(scores.mean(), scores.std()))"
   ]
  },
  {
   "cell_type": "code",
   "execution_count": 222,
   "metadata": {},
   "outputs": [
    {
     "name": "stdout",
     "output_type": "stream",
     "text": [
      "Score global del modelo: 0.64 +/- 0.06\n"
     ]
    }
   ],
   "source": [
    "knc = KNeighborsClassifier(n_neighbors=30)\n",
    "knc = knc.fit(X, Y)\n",
    "scores = cross_val_score(knc, X, Y, cv=5)\n",
    "print(\"Score global del modelo: {:.2f} +/- {:.2f}\".format(scores.mean(), scores.std()))"
   ]
  },
  {
   "cell_type": "code",
   "execution_count": 225,
   "metadata": {},
   "outputs": [
    {
     "name": "stdout",
     "output_type": "stream",
     "text": [
      "Score global del modelo: 0.57 +/- 0.03\n"
     ]
    }
   ],
   "source": [
    "mlpc = MLPClassifier(hidden_layer_sizes=(10,10,), max_iter=100000,\n",
    "                              alpha=0.1)\n",
    "mlpc = mlpc.fit(X, Y)\n",
    "scores = cross_val_score(mlpc, X, Y, cv=5)\n",
    "print(\"Score global del modelo: {:.2f} +/- {:.2f}\".format(scores.mean(), scores.std()))"
   ]
  },
  {
   "cell_type": "code",
   "execution_count": 160,
   "metadata": {},
   "outputs": [
    {
     "name": "stdout",
     "output_type": "stream",
     "text": [
      "Score global del modelo: 0.62 +/- 0.02\n"
     ]
    }
   ],
   "source": [
    "gnb = GaussianNB()\n",
    "gnb = gnb.fit(X, Y)\n",
    "scores = cross_val_score(gnb, X, Y, cv=5)\n",
    "print(\"Score global del modelo: {:.2f} +/- {:.2f}\".format(scores.mean(), scores.std()))"
   ]
  },
  {
   "cell_type": "markdown",
   "metadata": {},
   "source": [
    "Tras estudiar las puntuaciones de los distintos clasificadores con distintos parámetros, hemos obtenido que el mejor de todos es el árbol de decisión con profuncidad máxima 5. A continuación, vamos a calcular las probabilidades de que el atributo 'Churn Status' de los datos de explotación sea 1 a partir de la función *predict_proba*, que devuelve la probabilidad de cada valor de la clase (hemos asumido que el orden de las tuplas es \\[prob_0, prob_1\\]). Después, se ordenan de manera que queden ordenadas de mayor a menor según la probabilidad de que se vayan ('Churn Status' = 1), correspondemos con los datos de *datos_explotacion* e imprimimos los 100 primeros IDs."
   ]
  },
  {
   "cell_type": "code",
   "execution_count": 221,
   "metadata": {},
   "outputs": [
    {
     "data": {
      "text/plain": [
       "array(['ADF1811', 'ADF1972', 'ADF1806', 'ADF1602', 'ADF0524', 'ADF0127',\n",
       "       'ADF0137', 'ADF0561', 'ADF1060', 'ADF1841', 'ADF1821', 'ADF1817',\n",
       "       'ADF1955', 'ADF1772', 'ADF1815', 'ADF1774', 'ADF1829', 'ADF1823',\n",
       "       'ADF1780', 'ADF1803', 'ADF1775', 'ADF1641', 'ADF1773', 'ADF0444',\n",
       "       'ADF0451', 'ADF1978', 'ADF0513', 'ADF0511', 'ADF0098', 'ADF0480',\n",
       "       'ADF0081', 'ADF1896', 'ADF1638', 'ADF0409', 'ADF1901', 'ADF0442',\n",
       "       'ADF1623', 'ADF0484', 'ADF1632', 'ADF1598', 'ADF0391', 'ADF1596',\n",
       "       'ADF1579', 'ADF1572', 'ADF0354', 'ADF1975', 'ADF0621', 'ADF0607',\n",
       "       'ADF0603', 'ADF0601', 'ADF1597', 'ADF0363', 'ADF1560', 'ADF0458',\n",
       "       'ADF0517', 'ADF1563', 'ADF1564', 'ADF1567', 'ADF1582', 'ADF0580',\n",
       "       'ADF1561', 'ADF0420', 'ADF0447', 'ADF1985', 'ADF1650', 'ADF1631',\n",
       "       'ADF1613', 'ADF1612', 'ADF1593', 'ADF1581', 'ADF1555', 'ADF1063',\n",
       "       'ADF1657', 'ADF1590', 'ADF1601', 'ADF1607', 'ADF0494', 'ADF1615',\n",
       "       'ADF1616', 'ADF1617', 'ADF1620', 'ADF1606', 'ADF0490', 'ADF1967',\n",
       "       'ADF1965', 'ADF1995', 'ADF0333', 'ADF0339', 'ADF0597', 'ADF0539',\n",
       "       'ADF0065', 'ADF0537', 'ADF0038', 'ADF0042', 'ADF0417', 'ADF0262',\n",
       "       'ADF1954', 'ADF0622', 'ADF0491', 'ADF0475', 'ADF0460', 'ADF0457',\n",
       "       'ADF0446', 'ADF0440', 'ADF0421', 'ADF1971', 'ADF0410', 'ADF0377',\n",
       "       'ADF0371', 'ADF0351', 'ADF0267', 'ADF0256', 'ADF0488', 'ADF1982',\n",
       "       'ADF1895', 'ADF1979', 'ADF0106', 'ADF1265', 'ADF1705', 'ADF1708',\n",
       "       'ADF1709', 'ADF1698', 'ADF1695', 'ADF1685', 'ADF1465', 'ADF1677',\n",
       "       'ADF1670', 'ADF1668', 'ADF1472', 'ADF1723', 'ADF1721', 'ADF1223',\n",
       "       'ADF1740', 'ADF1438', 'ADF1238', 'ADF1243', 'ADF1249', 'ADF1256',\n",
       "       'ADF1735', 'ADF1521', 'ADF1468', 'ADF1725', 'ADF1728', 'ADF1386',\n",
       "       'ADF1426', 'ADF1331', 'ADF1433', 'ADF1400', 'ADF1398', 'ADF1762',\n",
       "       'ADF1349', 'ADF1390', 'ADF1701', 'ADF1431', 'ADF1764', 'ADF1456',\n",
       "       'ADF1483', 'ADF1760', 'ADF1311', 'ADF1754', 'ADF1736', 'ADF1303',\n",
       "       'ADF1729', 'ADF1848', 'ADF1031', 'ADF1046', 'ADF1045', 'ADF1554',\n",
       "       'ADF1634', 'ADF1562', 'ADF1592', 'ADF1556', 'ADF1629', 'ADF1051',\n",
       "       'ADF1559', 'ADF1639', 'ADF1656', 'ADF1625', 'ADF1624', 'ADF1614',\n",
       "       'ADF1604', 'ADF1603', 'ADF1635', 'ADF1663', 'ADF1515', 'ADF1520',\n",
       "       'ADF1450', 'ADF1512', 'ADF1330', 'ADF1231', 'ADF1451', 'ADF1401',\n",
       "       'ADF1391', 'ADF1384', 'ADF1377', 'ADF1368', 'ADF1509', 'ADF1343',\n",
       "       'ADF1286', 'ADF1280', 'ADF1270', 'ADF1263', 'ADF1260', 'ADF1236',\n",
       "       'ADF1321', 'ADF1445', 'ADF1477', 'ADF1429', 'ADF1719', 'ADF1726',\n",
       "       'ADF1734', 'ADF1759', 'ADF1403', 'ADF1372', 'ADF1363', 'ADF1888',\n",
       "       'ADF1906', 'ADF1915', 'ADF1763', 'ADF1767', 'ADF1345', 'ADF1907',\n",
       "       'ADF1913', 'ADF1439', 'ADF1678', 'ADF1707', 'ADF0549', 'ADF1425',\n",
       "       'ADF1410', 'ADF1739', 'ADF1452', 'ADF1453', 'ADF1462', 'ADF1454',\n",
       "       'ADF1404', 'ADF1467', 'ADF1489', 'ADF0596', 'ADF0590', 'ADF1743',\n",
       "       'ADF1752', 'ADF1502', 'ADF1503', 'ADF1481', 'ADF1956', 'ADF1892',\n",
       "       'ADF1959', 'ADF1213', 'ADF1088', 'ADF1079', 'ADF0585', 'ADF0584',\n",
       "       'ADF0525', 'ADF1644', 'ADF0320', 'ADF0317', 'ADF0313', 'ADF0304',\n",
       "       'ADF0297', 'ADF0293', 'ADF0291', 'ADF0285', 'ADF1849', 'ADF0101',\n",
       "       'ADF1855', 'ADF1095', 'ADF1096', 'ADF1105', 'ADF1117', 'ADF1206',\n",
       "       'ADF1205', 'ADF1193', 'ADF1183', 'ADF1182', 'ADF1171', 'ADF1166',\n",
       "       'ADF1163', 'ADF1216', 'ADF1161', 'ADF1148', 'ADF1147', 'ADF1141',\n",
       "       'ADF1137', 'ADF1131', 'ADF1130', 'ADF1123', 'ADF1119', 'ADF1156',\n",
       "       'ADF1142'], dtype=object)"
      ]
     },
     "execution_count": 221,
     "metadata": {},
     "output_type": "execute_result"
    }
   ],
   "source": [
    "probs = clf.predict_proba(datos_explotacion[dc_attrs])\n",
    "datos_completos[np.argsort(probs[:, 0])][:, 0]"
   ]
  },
  {
   "cell_type": "code",
   "execution_count": null,
   "metadata": {},
   "outputs": [],
   "source": []
  }
 ],
 "metadata": {
  "kernelspec": {
   "display_name": "Python 3",
   "language": "python",
   "name": "python3"
  },
  "language_info": {
   "codemirror_mode": {
    "name": "ipython",
    "version": 3
   },
   "file_extension": ".py",
   "mimetype": "text/x-python",
   "name": "python",
   "nbconvert_exporter": "python",
   "pygments_lexer": "ipython3",
   "version": "3.8.2"
  }
 },
 "nbformat": 4,
 "nbformat_minor": 2
}
